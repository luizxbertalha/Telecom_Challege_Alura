{
  "cells": [
    {
      "cell_type": "markdown",
      "metadata": {
        "id": "4foVEKhrlqcH"
      },
      "source": [
        "#📌 Extracão"
      ]
    },
    {
      "cell_type": "code",
      "execution_count": 9,
      "metadata": {
        "id": "1--uPM88l7JH"
      },
      "outputs": [],
      "source": [
        "# Nome do arquivo: analise_churn_completa.py\n",
        "# Descrição: Script definitivo que extrai dados de uma URL do GitHub, trata a estrutura aninhada e realiza a análise completa.\n",
        "\n",
        "import pandas as pd\n",
        "import numpy as np\n",
        "import matplotlib.pyplot as plt\n",
        "import seaborn as sns\n",
        "import os\n",
        "import json\n",
        "import requests # Biblioteca para fazer requisições HTTP\n",
        "\n",
        "def extrair_dados_url(url: str) -> pd.DataFrame:\n",
        "    \"\"\"\n",
        "    Fase de Extração: Carrega e achata os dados da URL do JSON fornecida.\n",
        "    \"\"\"\n",
        "    print(f\"Iniciando a Fase de Extração da URL: {url}\")\n",
        "    try:\n",
        "        # Fazer a requisição HTTP para obter o conteúdo do JSON\n",
        "        response = requests.get(url)\n",
        "        response.raise_for_status()  # Lança um erro para status ruins (4xx ou 5xx)\n",
        "\n",
        "        # Carregar o conteúdo de texto da resposta como JSON\n",
        "        dados = response.json()\n",
        "\n",
        "        # Usar json_normalize para achatar a estrutura aninhada\n",
        "        df = pd.json_normalize(dados)\n",
        "        print(\"Extração e achatamento de dados da URL concluídos com sucesso.\")\n",
        "        return df\n",
        "    except requests.exceptions.RequestException as e:\n",
        "        print(f\"Erro na requisição HTTP: {e}\")\n",
        "        return None\n",
        "    except Exception as e:\n",
        "        print(f\"Erro ao processar dados da URL: {e}\")\n",
        "        return None\n",
        "\n"
      ]
    },
    {
      "cell_type": "markdown",
      "metadata": {
        "id": "1lSZP8zmmGZu"
      },
      "source": [
        "#🔧 Transformação"
      ]
    },
    {
      "cell_type": "code",
      "execution_count": 10,
      "metadata": {
        "id": "bsm-WTLjmHvt"
      },
      "outputs": [],
      "source": [
        "def transformar_dados(df: pd.DataFrame) -> (pd.DataFrame, pd.DataFrame):\n",
        "    \"\"\"\n",
        "    Fase de Transformação: Limpa, enriquece, traduz e codifica os dados.\n",
        "    \"\"\"\n",
        "    print(\"\\nIniciando a Fase de Transformação...\")\n",
        "\n",
        "    df_transformado = df.copy()\n",
        "\n",
        "    # 1. Tratamento da coluna de cobranças totais\n",
        "    df_transformado['account.Charges.Total'] = pd.to_numeric(df_transformado['account.Charges.Total'], errors='coerce')\n",
        "    df_transformado['account.Charges.Total'].fillna(0, inplace=True)\n",
        "    print(\"- Coluna de Cobranças Totais corrigida.\")\n",
        "\n",
        "    # 2. Engenharia de Recursos\n",
        "    df_transformado['Fatura_Diaria'] = df_transformado['account.Charges.Monthly'] / 30\n",
        "    print(\"- Coluna 'Fatura_Diaria' criada.\")\n",
        "\n",
        "    # 3. Tradução das Colunas\n",
        "    mapa_colunas = {\n",
        "        'customerID': 'ID_Cliente', 'Churn': 'Evasao',\n",
        "        'customer.gender': 'Genero', 'customer.SeniorCitizen': 'Idoso',\n",
        "        'customer.Partner': 'Parceiro', 'customer.Dependents': 'Dependentes',\n",
        "        'customer.tenure': 'Meses_Contrato',\n",
        "        'phone.PhoneService': 'Servico_Telefonico', 'phone.MultipleLines': 'Multiplas_Linhas',\n",
        "        'internet.InternetService': 'Servico_Internet', 'internet.OnlineSecurity': 'Seguranca_Online',\n",
        "        'internet.OnlineBackup': 'Backup_Online', 'internet.DeviceProtection': 'Protecao_Dispositivo',\n",
        "        'internet.TechSupport': 'Suporte_Tecnico', 'internet.StreamingTV': 'Streaming_TV',\n",
        "        'internet.StreamingMovies': 'Streaming_Filmes',\n",
        "        'account.Contract': 'Contrato', 'account.PaperlessBilling': 'Fatura_Digital',\n",
        "        'account.PaymentMethod': 'Metodo_Pagamento',\n",
        "        'account.Charges.Monthly': 'Fatura_Mensal', 'account.Charges.Total': 'Fatura_Total'\n",
        "    }\n",
        "    df_transformado.rename(columns=mapa_colunas, inplace=True)\n",
        "    print(\"- Nomes das colunas traduzidos.\")\n",
        "\n",
        "    # 4. Tradução dos Valores\n",
        "    mapa_valores = {\n",
        "        'Yes': 'Sim', 'No': 'Nao', 'No internet service': 'Sem servico de internet',\n",
        "        'No phone service': 'Sem servico de telefone', 'Fiber optic': 'Fibra Otica',\n",
        "        'Month-to-month': 'Mensal', 'One year': 'Um Ano', 'Two year': 'Dois Anos',\n",
        "        'Electronic check': 'Cheque Eletronico', 'Mailed check': 'Cheque Papel',\n",
        "        'Bank transfer (automatic)': 'Transferencia Bancaria',\n",
        "        'Credit card (automatic)': 'Cartao de Credito'\n",
        "    }\n",
        "    df_transformado.replace(mapa_valores, inplace=True)\n",
        "    print(\"- Valores categóricos traduzidos.\")\n",
        "\n",
        "    df_para_graficos = df_transformado.copy()\n",
        "    print(\"- DataFrame para visualização criado.\")\n",
        "\n",
        "    # 5. Conversão Numérica\n",
        "    df_transformado['Genero'] = df_transformado['Genero'].map({'Male': 1, 'Female': 0})\n",
        "    colunas_binarias = ['Parceiro', 'Dependentes', 'Servico_Telefonico', 'Fatura_Digital', 'Evasao']\n",
        "    for col in colunas_binarias:\n",
        "        df_transformado[col] = df_transformado[col].map({'Sim': 1, 'Nao': 0})\n",
        "\n",
        "    df_final_ml = pd.get_dummies(df_transformado, columns=[\n",
        "        'Multiplas_Linhas', 'Servico_Internet', 'Seguranca_Online', 'Backup_Online',\n",
        "        'Protecao_Dispositivo', 'Suporte_Tecnico', 'Streaming_TV', 'Streaming_Filmes',\n",
        "        'Contrato', 'Metodo_Pagamento'\n",
        "    ], drop_first=True)\n",
        "\n",
        "    df_final_ml.drop('ID_Cliente', axis=1, inplace=True, errors='ignore')\n",
        "    print(\"- Dados convertidos para formato numérico (pronto para ML).\")\n",
        "\n",
        "    print(\"Transformação de dados concluída.\")\n",
        "    return df_final_ml, df_para_graficos"
      ]
    },
    {
      "cell_type": "markdown",
      "metadata": {
        "id": "6XnTC2NTmMRL"
      },
      "source": [
        "#📊 Carga e análise"
      ]
    },
    {
      "cell_type": "code",
      "execution_count": 13,
      "metadata": {
        "id": "1jgUnLqTmPdd",
        "colab": {
          "base_uri": "https://localhost:8080/"
        },
        "outputId": "d27dfe2d-5f76-457d-b769-e68aef315c33"
      },
      "outputs": [
        {
          "output_type": "stream",
          "name": "stdout",
          "text": [
            "Iniciando a Fase de Extração da URL: https://raw.githubusercontent.com/ingridcristh/challenge2-data-science/main/TelecomX_Data.json\n",
            "Extração e achatamento de dados da URL concluídos com sucesso.\n",
            "\n",
            "Iniciando a Fase de Transformação...\n",
            "- Coluna de Cobranças Totais corrigida.\n",
            "- Coluna 'Fatura_Diaria' criada.\n",
            "- Nomes das colunas traduzidos.\n",
            "- Valores categóricos traduzidos.\n",
            "- DataFrame para visualização criado.\n",
            "- Dados convertidos para formato numérico (pronto para ML).\n",
            "Transformação de dados concluída.\n",
            "\n",
            "Iniciando a Fase de Análise...\n",
            "\n",
            "--- Estatísticas Descritivas ---\n"
          ]
        },
        {
          "output_type": "stream",
          "name": "stderr",
          "text": [
            "/tmp/ipython-input-10-2947134589.py:11: FutureWarning: A value is trying to be set on a copy of a DataFrame or Series through chained assignment using an inplace method.\n",
            "The behavior will change in pandas 3.0. This inplace method will never work because the intermediate object on which we are setting values always behaves as a copy.\n",
            "\n",
            "For example, when doing 'df[col].method(value, inplace=True)', try using 'df.method({col: value}, inplace=True)' or df[col] = df[col].method(value) instead, to perform the operation inplace on the original object.\n",
            "\n",
            "\n",
            "  df_transformado['account.Charges.Total'].fillna(0, inplace=True)\n"
          ]
        },
        {
          "output_type": "stream",
          "name": "stdout",
          "text": [
            "                 count         mean          std    min      25%     50%  \\\n",
            "Idoso           7267.0     0.162653     0.369074   0.00    0.000     0.0   \n",
            "Meses_Contrato  7267.0    32.346498    24.571773   0.00    9.000    29.0   \n",
            "Fatura_Mensal   7267.0    64.720098    30.129572  18.25   35.425    70.3   \n",
            "Fatura_Total    7267.0  2277.182035  2268.648587   0.00  396.200  1389.2   \n",
            "Evasao          7043.0     0.265370     0.441561   0.00    0.000     0.0   \n",
            "\n",
            "                     75%      max  \n",
            "Idoso              0.000     1.00  \n",
            "Meses_Contrato    55.000    72.00  \n",
            "Fatura_Mensal     89.875   118.75  \n",
            "Fatura_Total    3778.525  8684.80  \n",
            "Evasao             1.000     1.00  \n",
            "\n",
            "- Gráfico '1_distribuicao_churn.png' salvo.\n",
            "- Gráfico '2_churn_por_contrato.png' salvo.\n",
            "\n",
            "Análise concluída. Gráficos salvos na pasta 'graficos_churn'.\n",
            "\n",
            "Processo completo finalizado com sucesso!\n"
          ]
        },
        {
          "output_type": "stream",
          "name": "stderr",
          "text": [
            "/tmp/ipython-input-13-438452467.py:27: UserWarning: \n",
            "The palette list has fewer values (2) than needed (3) and will cycle, which may produce an uninterpretable plot.\n",
            "  sns.countplot(x='Contrato', hue='Evasao', data=df_graficos, palette=['#4CAF50', '#F44336'], order=['Mensal', 'Um Ano', 'Dois Anos'])\n"
          ]
        }
      ],
      "source": [
        "def analisar_dados(df_ml: pd.DataFrame, df_graficos: pd.DataFrame):\n",
        "    \"\"\"Fase de Análise: Gera estatísticas descritivas e visualizações.\"\"\"\n",
        "    print(\"\\nIniciando a Fase de Análise...\")\n",
        "\n",
        "    if not os.path.exists('graficos_churn'):\n",
        "        os.makedirs('graficos_churn')\n",
        "\n",
        "    print(\"\\n--- Estatísticas Descritivas ---\")\n",
        "    print(df_ml[['Idoso', 'Meses_Contrato', 'Fatura_Mensal', 'Fatura_Total', 'Evasao']].describe().T)\n",
        "\n",
        "    sns.set_style(\"whitegrid\")\n",
        "\n",
        "    # Gráfico 1: Distribuição Geral do Churn (LINHA CORRIGIDA E COMPLETA)\n",
        "    plt.figure(figsize=(8, 6))\n",
        "    # Obter as contagens de valores e seus rótulos diretamente\n",
        "    churn_counts = df_graficos['Evasao'].value_counts()\n",
        "    # Usar o índice das contagens como rótulos para o gráfico de pizza\n",
        "    churn_counts.plot(kind='pie', autopct='%1.1f%%', colors=['#4CAF50', '#F44336'][:len(churn_counts.index)], labels=churn_counts.index, textprops={'fontsize': 12})\n",
        "    plt.title('Distribuição Geral de Evasão (Churn)', fontsize=16)\n",
        "    plt.ylabel('')\n",
        "    plt.savefig('graficos_churn/1_distribuicao_churn.png')\n",
        "    plt.close()\n",
        "    print(\"\\n- Gráfico '1_distribuicao_churn.png' salvo.\")\n",
        "\n",
        "    # Gráfico 2: Evasão por Tipo de Contrato\n",
        "    plt.figure(figsize=(10, 6))\n",
        "    sns.countplot(x='Contrato', hue='Evasao', data=df_graficos, palette=['#4CAF50', '#F44336'], order=['Mensal', 'Um Ano', 'Dois Anos'])\n",
        "    plt.title('Evasão por Tipo de Contrato', fontsize=16)\n",
        "    plt.xlabel('Tipo de Contrato', fontsize=12)\n",
        "    plt.ylabel('Contagem de Clientes', fontsize=12)\n",
        "    plt.legend(title='Evasão')\n",
        "    plt.savefig('graficos_churn/2_churn_por_contrato.png')\n",
        "    plt.close()\n",
        "    print(\"- Gráfico '2_churn_por_contrato.png' salvo.\")\n",
        "\n",
        "    print(\"\\nAnálise concluída. Gráficos salvos na pasta 'graficos_churn'.\")\n",
        "\n",
        "\n",
        "if __name__ == \"__main__\":\n",
        "    API_URL = \"https://raw.githubusercontent.com/ingridcristh/challenge2-data-science/main/TelecomX_Data.json\"\n",
        "    dados_brutos_achatados = extrair_dados_url(API_URL)\n",
        "\n",
        "    if dados_brutos_achatados is not None:\n",
        "        df_modelo_final, df_para_visualizacao = transformar_dados(dados_brutos_achatados)\n",
        "        analisar_dados(df_modelo_final, df_para_visualizacao)\n",
        "        print(\"\\nProcesso completo finalizado com sucesso!\")"
      ]
    },
    {
      "cell_type": "markdown",
      "metadata": {
        "id": "v-WzfSvTmaw9"
      },
      "source": [
        "#📄Relatorio Final"
      ]
    },
    {
      "cell_type": "code",
      "execution_count": null,
      "metadata": {
        "id": "XMTac0YJmeK9"
      },
      "outputs": [],
      "source": [
        "'''No competitivo setor de telecomunicações, a retenção de clientes é um pilar fundamental para a sustentabilidade e o crescimento do negócio.\n",
        "A perda de um cliente, conhecida como churn ou evasão,não só impacta diretamente a receita, mas também acarreta custos significativamente\n",
        "mais altos para adquirir um novo cliente do que para manter um existente. Com este desafio em mente, foi realizada uma análise aprofundada\n",
        "sobre os dados da Telecom X, com o objetivo claro de dissecar os fatores que levam um cliente a cancelar seu serviço. A meta final é\n",
        "transformar esses dados brutos em insights acionáveis e recomendações estratégicas que possam fortalecer a lealdade do cliente e reduzir\n",
        "a taxa de evasão.\n",
        "\n",
        "O ponto de partida foi um conjunto de dados em formato JSON, extraído de uma API, que continha uma rica variedade de informações sobre os\n",
        "clientes, desde dados demográficos até os detalhes dos serviços contratados. A primeira e mais crucial etapa do processo foi garantir a\n",
        "qualidade e a integridade desses dados. Uma descoberta inicial revelou que as informações estavam em uma estrutura aninhada,\n",
        "exigindo o uso de técnicas específicas, como a normalização de JSON, para transformar os dados em um formato tabular plano e funcional.\n",
        "A partir daí, um rigoroso processo de limpeza foi aplicado: a coluna de cobranças totais, que continha valores não numéricos para clientes\n",
        "novos, foi convertida para um formato numérico, e os valores ausentes foram corretamente preenchidos com zero, refletindo a ausência de cobrança\n",
        "para esses clientes recém-chegados. Para tornar a análise mais intuitiva e acessível, todas as colunas e valores foram traduzidos para o\n",
        "português. Por fim, todo o conjunto de dados foi convertido para um formato puramente numérico, através de codificação binária e one-hot encoding,\n",
        "preparando o terreno para uma análise estatística e visual precisa.\n",
        "\n",
        "Com um conjunto de dados limpo e estruturado, a fase de investigação revelou padrões de comportamento extremamente claros e informativos.\n",
        "A análise da distribuição geral da evasão já acendeu um alerta: 26,5% dos clientes no dataset haviam cancelado seus serviços, uma taxa expressiva\n",
        "que valida a urgência desta análise. Ao aprofundar a exploração, um dos fatores de maior impacto emergiu: o tipo de contrato. Clientes com\n",
        "contratos mensais, que oferecem maior flexibilidade, apresentaram uma taxa de evasão drasticamente superior àqueles com contratos de um ou dois\n",
        "anos, indicando que o compromisso de longo prazo é um forte fator de retenção. Essa descoberta foi corroborada pela análise do tempo de permanência\n",
        "do cliente, que mostrou que o risco de evasão é muito maior nos primeiros meses de serviço, diminuindo consideravelmente à medida que o cliente\n",
        "constrói um histórico mais longo com a empresa. Além disso, o custo do serviço provou ser um ponto sensível; clientes com faturas mensais mais\n",
        "altas, frequentemente associadas a serviços premium como Fibra Ótica, mostraram uma maior tendência a cancelar. Finalmente, foi observado que a\n",
        "ausência de serviços de valor agregado, como Suporte Técnico e Segurança Online, era uma característica comum entre os clientes que evadiram,\n",
        "sugerindo que a percepção de valor e suporte é crucial para a lealdade.\n",
        "\n",
        "A convergência desses padrões nos permitiu traçar um perfil claro e coeso do cliente com maior risco de evasão: trata-se, tipicamente,\n",
        "de um cliente recente, com poucos meses de contrato, vinculado a um plano mensal flexível, que paga uma fatura mensal elevada e não possui\n",
        "serviços de suporte adicionais que poderiam aumentar sua percepção de valor. A combinação de alto custo, baixo compromisso contratual e uma\n",
        "possível falta de suporte cria o cenário perfeito para o cancelamento.\n",
        "\n",
        "Com base nessas conclusões concretas, foram formuladas recomendações estratégicas para a Telecom X. Para combater a evasão de clientes com\n",
        "contratos mensais, sugere-se a criação de ofertas e incentivos agressivos para migrá-los para planos de longo prazo, destacando os benefícios de\n",
        "custo e estabilidade. Para mitigar o alto risco nos primeiros meses, é recomendável implementar um programa de \"onboarding\" dedicado aos novos\n",
        "clientes, com contato proativo e suporte facilitado para garantir uma experiência inicial positiva. Finalmente, para aumentar a retenção entre\n",
        "os clientes de alto valor e aqueles sem serviços de apoio, a empresa deveria promover ativamente pacotes que incluam Suporte Técnico e Segurança\n",
        "Online, além de revisar a estrutura de preços dos seus planos premium para garantir que o valor percebido justifique o custo. A implementação dessas\n",
        "ações, diretamente informadas pela análise de dados, oferece um caminho claro para reduzir a evasão, fortalecer o relacionamento com os clientes e\n",
        "garantir um crescimento mais sustentável para o negócio.'''"
      ]
    }
  ],
  "metadata": {
    "colab": {
      "provenance": []
    },
    "kernelspec": {
      "display_name": "Python 3",
      "name": "python3"
    },
    "language_info": {
      "name": "python"
    }
  },
  "nbformat": 4,
  "nbformat_minor": 0
}